{
  "cells": [
    {
      "cell_type": "code",
      "execution_count": null,
      "metadata": {
        "id": "UTBvp9W1Bwe4",
        "colab": {
          "base_uri": "https://localhost:8080/"
        },
        "outputId": "62e0a8eb-bfd8-4025-b0d9-168ff7bb14ea"
      },
      "outputs": [
        {
          "output_type": "stream",
          "name": "stdout",
          "text": [
            "Mounted at /content/drive\n"
          ]
        }
      ],
      "source": [
        "from google.colab import drive\n",
        "drive.mount('/content/drive')"
      ]
    },
    {
      "cell_type": "code",
      "execution_count": null,
      "metadata": {
        "id": "c3T8ocWuKhTa"
      },
      "outputs": [],
      "source": [
        "path = '/content/drive/MyDrive/dataset/'\n",
        "# path"
      ]
    },
    {
      "cell_type": "code",
      "execution_count": null,
      "metadata": {
        "id": "T6TO3QTsviwP"
      },
      "outputs": [],
      "source": [
        "_path = '/content/drive/MyDrive/movie-recommendation-dataset/'\n",
        "#K's path"
      ]
    },
    {
      "cell_type": "code",
      "execution_count": null,
      "metadata": {
        "id": "yr7nHgz9UphL"
      },
      "outputs": [],
      "source": [
        "import pandas as pd\n",
        "import numpy as np"
      ]
    },
    {
      "cell_type": "code",
      "source": [
        "import matplotlib\n",
        "matplotlib.use('nbagg')\n",
        "\n",
        "import matplotlib.pyplot as plt\n",
        "plt.rcParams.update({'figure.max_open_warning': 0})\n",
        "%matplotlib inline\n",
        "\n",
        "import seaborn as sns\n",
        "sns.set_style('whitegrid')\n",
        "#Graphical representation imports"
      ],
      "metadata": {
        "id": "8iC9rmpF69W0"
      },
      "execution_count": null,
      "outputs": []
    },
    {
      "cell_type": "code",
      "source": [
        "import os\n",
        "from sklearn.metrics.pairwise import cosine_similarity\n",
        "from scipy import sparse\n",
        "from scipy.sparse import csr_matrix"
      ],
      "metadata": {
        "id": "k_r3lBV9iXPU"
      },
      "execution_count": null,
      "outputs": []
    },
    {
      "cell_type": "code",
      "source": [
        "!pip install scikit-surprise\n"
      ],
      "metadata": {
        "id": "I_9FR6uPxjaf"
      },
      "execution_count": null,
      "outputs": []
    },
    {
      "cell_type": "code",
      "source": [
        "from surprise import Dataset, Reader\n",
        "from surprise.model_selection import train_test_split\n",
        "from surprise import BaselineOnly\n",
        "from surprise import KNNBaseline\n",
        "from surprise import accuracy\n",
        "from surprise import SVD\n",
        "from surprise import SVDpp"
      ],
      "metadata": {
        "id": "dtZlviQmyIws"
      },
      "execution_count": null,
      "outputs": []
    },
    {
      "cell_type": "markdown",
      "metadata": {
        "id": "YoWoQJXkYlR_"
      },
      "source": [
        "# Reading and Storing Data\n"
      ]
    },
    {
      "cell_type": "code",
      "execution_count": null,
      "metadata": {
        "id": "z8lblWcrTyhe"
      },
      "outputs": [],
      "source": [
        "movies = pd.read_csv(f'{path}movie_titles.csv')"
      ]
    },
    {
      "cell_type": "code",
      "execution_count": null,
      "metadata": {
        "id": "H3MvcnwqQhDi"
      },
      "outputs": [],
      "source": [
        "files = [f'{path}combined_data_1.csv', f'{path}combined_data_2.csv', f'{path}combined_data_3.csv', f'{path}combined_data_4.csv']"
      ]
    },
    {
      "cell_type": "code",
      "execution_count": null,
      "metadata": {
        "id": "rpCTgl0BRglQ"
      },
      "outputs": [],
      "source": [
        "# Create a new dataframe to contain all data in the files\n",
        "\n",
        "data = pd.read_csv(f'{path}data.csv', names=['MovieID', 'CustID', 'Rating', 'Date'])"
      ]
    },
    {
      "cell_type": "code",
      "execution_count": null,
      "metadata": {
        "id": "ifS-1yZhOjpc"
      },
      "outputs": [],
      "source": [
        "data.tail()"
      ]
    },
    {
      "cell_type": "code",
      "execution_count": null,
      "metadata": {
        "id": "8YEesaAzpoQP"
      },
      "outputs": [],
      "source": [
        "# Save data\n",
        "\n",
        "def save_data(df):\n",
        "  result = pd.concat([data, df.iloc[1:]])\n",
        "  result.to_csv(f'{path}data.csv', index=False)"
      ]
    },
    {
      "cell_type": "code",
      "execution_count": null,
      "metadata": {
        "id": "kGiHKIbCSTFR"
      },
      "outputs": [],
      "source": [
        "df1 = pd.read_csv(files[0], names=['CustID', 'Rating', 'Date'])\n",
        "movieID = df1['CustID'][0]\n",
        "df1.insert(0, \"MovieID\", movieID[:len(movieID) - 1])\n"
      ]
    },
    {
      "cell_type": "code",
      "execution_count": null,
      "metadata": {
        "id": "7i-nicwUmuB4"
      },
      "outputs": [],
      "source": [
        "df1 = pd.read_csv(files[0], names=['CustID', 'Rating', 'Date'])"
      ]
    },
    {
      "cell_type": "code",
      "execution_count": null,
      "metadata": {
        "id": "d6HxWVuenZPw"
      },
      "outputs": [],
      "source": [
        "df1.head()"
      ]
    },
    {
      "cell_type": "code",
      "execution_count": null,
      "metadata": {
        "id": "i8sydSl9nKrV"
      },
      "outputs": [],
      "source": [
        "def create_dataset():\n",
        "  if not os.path.isfile(f'{path}data.csv'):\n",
        "    data = open(f'{path}data.csv', mode='w')\n",
        "\n",
        "    row = list()\n",
        "    for file in files:\n",
        "        with open(file) as f:\n",
        "            for line in f:\n",
        "                del row[:]\n",
        "                line = line.strip()\n",
        "                if line.endswith(':'):\n",
        "                    movie_id = line.replace(':', '')\n",
        "                else:\n",
        "                    row = [x for x in line.split(',')]\n",
        "                    row.insert(0, movie_id)\n",
        "                    data.write(','.join(row))\n",
        "                    data.write('\\n')\n",
        "    data.close()"
      ]
    },
    {
      "cell_type": "code",
      "execution_count": null,
      "metadata": {
        "id": "tbyasE3jp3wL"
      },
      "outputs": [],
      "source": [
        "create_dataset()"
      ]
    },
    {
      "cell_type": "code",
      "execution_count": null,
      "metadata": {
        "id": "7J1dR7U-W18K"
      },
      "outputs": [],
      "source": [
        "df2 = pd.read_csv(files[1], names=['CustID', 'Rating', 'Date'])\n",
        "movieID = df2['CustID'][0]\n",
        "df2.insert(0, \"MovieID\", movieID[:len(movieID) - 1])"
      ]
    },
    {
      "cell_type": "code",
      "execution_count": null,
      "metadata": {
        "id": "Mxg8T5GbXn1j"
      },
      "outputs": [],
      "source": [
        "df3 = pd.read_csv(files[2], names=['CustID', 'Rating', 'Date'])\n",
        "movieID = df3['CustID'][0]\n",
        "df3.insert(0, \"MovieID\", movieID[:len(movieID) - 1])"
      ]
    },
    {
      "cell_type": "code",
      "execution_count": null,
      "metadata": {
        "id": "X9r-oMwkfJUN"
      },
      "outputs": [],
      "source": [
        "df4 = pd.read_csv(files[3], names=['CustID', 'Rating', 'Date'])\n",
        "movieID = df4['CustID'][0]\n",
        "df4.insert(0, \"MovieID\", movieID[:len(movieID) - 1])"
      ]
    },
    {
      "cell_type": "code",
      "execution_count": null,
      "metadata": {
        "id": "eUdpKwecqOgC"
      },
      "outputs": [],
      "source": [
        "# save_data(df4)"
      ]
    },
    {
      "cell_type": "code",
      "execution_count": null,
      "metadata": {
        "id": "zWd1uXv3OhLY"
      },
      "outputs": [],
      "source": [
        "data['Date'] = pd.to_datetime(data[\"Date\"])\n",
        "data.sort_values(by=\"Date\", inplace=True)"
      ]
    },
    {
      "cell_type": "code",
      "execution_count": null,
      "metadata": {
        "id": "umaIF428Tbau"
      },
      "outputs": [],
      "source": [
        "data.to_csv(f'{path}data.csv', index=False)"
      ]
    },
    {
      "cell_type": "code",
      "execution_count": null,
      "metadata": {
        "id": "Uw2p8vbYfWDm"
      },
      "outputs": [],
      "source": [
        "data.head()"
      ]
    },
    {
      "cell_type": "code",
      "execution_count": null,
      "metadata": {
        "id": "eUrkcWk0s0tY"
      },
      "outputs": [],
      "source": [
        "df2.head()"
      ]
    },
    {
      "cell_type": "code",
      "execution_count": null,
      "metadata": {
        "id": "wFtF7SLPMu7d"
      },
      "outputs": [],
      "source": [
        "movies.drop([\"others\", \"more\", \"prefix\"], axis=1, inplace=True)"
      ]
    },
    {
      "cell_type": "code",
      "execution_count": null,
      "metadata": {
        "id": "KDvrsK5ORY5D"
      },
      "outputs": [],
      "source": [
        "movies.head()\n"
      ]
    },
    {
      "cell_type": "markdown",
      "metadata": {
        "id": "Ai25oM52ZZVj"
      },
      "source": [
        "# Performing Exploratory Data Analysis on Data"
      ]
    },
    {
      "cell_type": "code",
      "execution_count": null,
      "metadata": {
        "id": "mvX8hd-Xwze6"
      },
      "outputs": [],
      "source": []
    },
    {
      "cell_type": "markdown",
      "metadata": {
        "id": "_SRxNOXoVvLo"
      },
      "source": [
        "### Dividing dataset into train and test data"
      ]
    },
    {
      "cell_type": "code",
      "execution_count": null,
      "metadata": {
        "id": "nQ_MWqu_YErT"
      },
      "outputs": [],
      "source": [
        "train_data = pd.read_csv(f'{path}train.csv')\n",
        "test_data = pd.read_csv(f'{path}test.csv')"
      ]
    },
    {
      "cell_type": "code",
      "execution_count": null,
      "metadata": {
        "id": "EIXm2F_2V94f"
      },
      "outputs": [],
      "source": [
        "def dataset_train_test_split(dataset):\n",
        "  if not os.path.isfile(f'{path}train.csv'):\n",
        "    dataset.iloc[:int(dataset.shape[0]*0.80)].to_csv(f\"{path}train.csv\", index=False)\n",
        "\n",
        "  if not os.path.isfile(f'{path}test.csv'):\n",
        "    dataset.iloc[int(dataset.shape[0]*0.80):].to_csv(f\"{path}test.csv\", index=False)"
      ]
    },
    {
      "cell_type": "code",
      "execution_count": null,
      "metadata": {
        "id": "4-JGSAeRXAPS"
      },
      "outputs": [],
      "source": [
        "dataset_train_test_split(data)"
      ]
    },
    {
      "cell_type": "code",
      "execution_count": null,
      "metadata": {
        "id": "4WnYxhGzX-yh"
      },
      "outputs": [],
      "source": [
        "test_data.head()"
      ]
    },
    {
      "cell_type": "markdown",
      "metadata": {
        "id": "TtOIVploZg5G"
      },
      "source": [
        "# Creating User-Item sparse matrix for the data"
      ]
    },
    {
      "cell_type": "code",
      "execution_count": null,
      "metadata": {
        "id": "VG0LOHQ-Ur4Y"
      },
      "outputs": [],
      "source": [
        "def is_file_available(file_name: str, path: str):\n",
        "    if os.path.isfile(f'{path}{file_name}'):\n",
        "        return True\n",
        "    else:\n",
        "        return False\n",
        "\n",
        "def create_sparse_matrix(dataset_type: str, dataset = dict()):\n",
        "    if is_file_available(f'{dataset_type}_sparse_matrix.npz', path):\n",
        "        print('reading file')\n",
        "        sparse_matrix = sparse.load_npz(f'{path}{dataset_type}_sparse_matrix.npz')\n",
        "        return sparse_matrix\n",
        "    else:\n",
        "        sparse_matrix = sparse.csr_matrix((dataset.Rating.values, (dataset.CustID.values,\n",
        "                                                dataset.MovieID.values)),)\n",
        "        sparse.save_npz(f\"{path}{dataset_type}_sparse_matrix.npz\", sparse_matrix)\n",
        "        return sparse_matrix"
      ]
    },
    {
      "cell_type": "code",
      "execution_count": null,
      "metadata": {
        "id": "5M3NRF0U8nt0"
      },
      "outputs": [],
      "source": [
        "train_sparse_matix = create_sparse_matrix(\"train\", train_data.iloc[:int(train_data.shape[0]*0.50)])"
      ]
    },
    {
      "cell_type": "code",
      "execution_count": null,
      "metadata": {
        "id": "gIhFCrnlzbnV"
      },
      "outputs": [],
      "source": [
        "train_sparse_matix = create_sparse_matrix(\"train\")"
      ]
    },
    {
      "cell_type": "code",
      "execution_count": null,
      "metadata": {
        "id": "HeYjuRJsU3MY"
      },
      "outputs": [],
      "source": [
        "train_sparse_matix = sparse.csr_matrix((train_data.Rating.values, (train_data.CustID.values, train_data.MovieID.values)),)\n",
        "test_sparse_matix = sparse.csr_matrix((test_data.Rating.values, (test_data.CustID.values, test_data.MovieID.values)),)"
      ]
    },
    {
      "cell_type": "markdown",
      "metadata": {
        "id": "p9efER3jwScp"
      },
      "source": [
        "### Checking if movie to movie similarity works"
      ]
    },
    {
      "cell_type": "markdown",
      "metadata": {
        "id": "HQOsjomowgfp"
      },
      "source": [
        "#### Creating movie to movie similarity matrix"
      ]
    },
    {
      "cell_type": "code",
      "execution_count": null,
      "metadata": {
        "id": "Us308iKfbQj3"
      },
      "outputs": [],
      "source": [
        "def create_movie_to_movie_similarity_matrix(sparse_matrix, dataset_type: str):\n",
        "    if is_file_available(f'{path}{dataset_type}_m_m_sim_sparse.npz', path):\n",
        "        similarity_matrix = cosine_similarity(X=sparse_matrix.T, dense_output=False)\n",
        "        sparse.save_npz(f'{path}{dataset_type}_m_m_sim_sparse.npz', similarity_matrix)\n",
        "        return similarity_matrix\n",
        "\n",
        "    else:\n",
        "        similarity_matrix = sparse.load_npz(f'{path}{dataset_type}_m_m_sim_sparse.npz')\n",
        "        return similarity_matrix"
      ]
    },
    {
      "cell_type": "code",
      "execution_count": null,
      "metadata": {
        "id": "U3Hvw4lQxcio"
      },
      "outputs": [],
      "source": [
        "# creating movie to movie similarity matrix for training data\n",
        "\n",
        "train_similarity_matrix = cosine_similarity(X = train_sparse_matix.T, dense_output = False)"
      ]
    },
    {
      "cell_type": "code",
      "execution_count": null,
      "metadata": {
        "id": "8Y13njjA4qqb"
      },
      "outputs": [],
      "source": [
        "def find_similar_movies(m_m_sim_sparse):\n",
        "    movie_ids = np.unique(m_m_sim_sparse.nonzero()[1])\n",
        "    similar_movies = dict()\n",
        "    for movie in movie_ids:\n",
        "        sim_movies = m_m_sim_sparse[movie].toarray().ravel().argsort()[::-1][1:]\n",
        "        similar_movies[movie] = sim_movies[:100]\n",
        "\n",
        "    return similar_movies"
      ]
    },
    {
      "cell_type": "code",
      "execution_count": null,
      "metadata": {
        "id": "cl7_hATbIq1V"
      },
      "outputs": [],
      "source": [
        "find_similar_movies(train_similarity_matrix)"
      ]
    },
    {
      "cell_type": "markdown",
      "metadata": {
        "id": "13ETTP4Ik7Nx"
      },
      "source": [
        "Creating user to user similarity matrix"
      ]
    },
    {
      "cell_type": "code",
      "execution_count": null,
      "metadata": {
        "id": "yR_UxanKUy9f"
      },
      "outputs": [],
      "source": [
        "def compute_user_similarity(sparse_matrix, compute_for_few=False, top = 100):\n",
        "    no_of_users, _ = sparse_matrix.shape\n",
        "    row_ind, col_ind = sparse_matrix.nonzero()\n",
        "    row_ind = sorted(set(row_ind))\n",
        "    time_taken = list()\n",
        "\n",
        "    rows, cols, data = list(), list(), list()\n",
        "    temp = 0\n",
        "\n",
        "    for row in row_ind[:top] if compute_for_few else row_ind:\n",
        "        temp = temp+1\n",
        "        sim = cosine_similarity(sparse_matrix.getrow(row), sparse_matrix).ravel()\n",
        "        top_sim_ind = sim.argsort()[-top:]\n",
        "        top_sim_val = sim[top_sim_ind]\n",
        "        rows.extend([row]*top)\n",
        "        cols.extend(top_sim_ind)\n",
        "        data.extend(top_sim_val)\n",
        "    return sparse.csr_matrix((data, (rows, cols)), shape=(no_of_users, no_of_users)), time_taken"
      ]
    },
    {
      "cell_type": "code",
      "execution_count": null,
      "metadata": {
        "id": "G_Yu5Wrwq15g"
      },
      "outputs": [],
      "source": [
        "u_u_sim_sparse, _ = compute_user_similarity(train_sparse_matrix, compute_for_few=True, top = 100)"
      ]
    },
    {
      "cell_type": "code",
      "execution_count": null,
      "metadata": {
        "id": "RLpe3M33r2sV"
      },
      "outputs": [],
      "source": [
        "def get_sample_sparse_matrix(sparse_matrix, no_users, no_movies, path):\n",
        "    row_ind, col_ind, ratings = sparse.find(sparse_matrix)\n",
        "    users = np.unique(row_ind)\n",
        "    movies = np.unique(col_ind)\n",
        "\n",
        "    sample_users = np.random.choice(users, no_users, replace=False)\n",
        "    sample_movies = np.random.choice(movies, no_movies, replace=False)\n",
        "    mask = np.logical_and( np.isin(row_ind, sample_users),\n",
        "                      np.isin(col_ind, sample_movies) )\n",
        "\n",
        "    sample_sparse_matrix = sparse.csr_matrix((ratings[mask], (row_ind[mask], col_ind[mask])),\n",
        "                                             shape=(max(sample_users)+1, max(sample_movies)+1))\n",
        "\n",
        "    sparse.save_npz(path, sample_sparse_matrix)\n",
        "\n",
        "    return sample_sparse_matrix"
      ]
    },
    {
      "cell_type": "code",
      "source": [
        "sparse_matrix = sparse.load_npz(f\"{path}train_sparse_matrix.npz\")"
      ],
      "metadata": {
        "id": "yj78yNjpeF4E"
      },
      "execution_count": null,
      "outputs": []
    },
    {
      "cell_type": "code",
      "source": [
        "users, movies, ratings = sparse.find(sparse_matrix)"
      ],
      "metadata": {
        "id": "l4r4sb4QeNRG"
      },
      "execution_count": null,
      "outputs": []
    },
    {
      "cell_type": "code",
      "source": [
        "def calculate_average_ratings(sparse_matrix, for_users):\n",
        "    axis = 1 if for_users else 0\n",
        "    sum_of_ratings = sparse_matrix.sum(axis=axis).A1\n",
        "    is_rated = sparse_matrix != 0\n",
        "    num_ratings = is_rated.sum(axis=axis).A1\n",
        "\n",
        "    num_rows, num_cols = sparse_matrix.shape\n",
        "    averages = {i: sum_of_ratings[i] / num_ratings[i]\n",
        "                for i in range(num_rows if for_users else num_cols)\n",
        "                if num_ratings[i] != 0}\n",
        "\n",
        "    return averages\n"
      ],
      "metadata": {
        "id": "T4ijb6xLePzJ"
      },
      "execution_count": null,
      "outputs": []
    },
    {
      "cell_type": "code",
      "source": [
        "sample_train_averages = dict()\n",
        "global_average = sparse_matrix.sum()/sparse_matrix.count_nonzero()\n",
        "sample_train_averages['global'] = global_average"
      ],
      "metadata": {
        "id": "K4FVSPIaeQk2"
      },
      "execution_count": null,
      "outputs": []
    },
    {
      "cell_type": "code",
      "source": [
        "sample_train_averages['user'] = get_average_ratings(sparse_matrix, of_users=True)"
      ],
      "metadata": {
        "id": "3Cz3HCf_eToF"
      },
      "execution_count": null,
      "outputs": []
    },
    {
      "cell_type": "code",
      "source": [
        "sample_train_averages['movie'] =  get_average_ratings(sparse_matrix, of_users=False)"
      ],
      "metadata": {
        "id": "lhMcQqr-eVOV"
      },
      "execution_count": null,
      "outputs": []
    },
    {
      "cell_type": "code",
      "source": [
        "def featurize_data(sparse_matrix):\n",
        "    if os.path.isfile(f'{path}featurized_dataset.csv'):\n",
        "        print(\"File already exists you don't have to prepare again...\" )\n",
        "    else:\n",
        "        with open(f'{path}featurized_dataset.csv', mode='w') as reg_data_file:\n",
        "            count = 0\n",
        "            for (user, movie, rating)  in zip(users, movies, ratings):\n",
        "\n",
        "                # For similar users\n",
        "                user_sim = cosine_similarity(sparse_matrix[user], sparse_matrix).ravel()\n",
        "                top_sim_users = user_sim.argsort()[::-1][1:]\n",
        "                top_ratings = sparse_matrix[top_sim_users, movie].toarray().ravel()\n",
        "                top_sim_users_ratings = list(top_ratings[top_ratings != 0][:5])\n",
        "                top_sim_users_ratings.extend([sample_train_averages['movie'][movie]]*(5 - len(top_sim_users_ratings)))\n",
        "\n",
        "                movie_sim = cosine_similarity(sparse_matrix[:,movie].T, sparse_matrix.T).ravel()\n",
        "                top_sim_movies = movie_sim.argsort()[::-1][1:]\n",
        "\n",
        "                top_ratings = sparse_matrix[user, top_sim_movies].toarray().ravel()\n",
        "\n",
        "                # For similar movies\n",
        "                top_sim_movies_ratings = list(top_ratings[top_ratings != 0][:5])\n",
        "                top_sim_movies_ratings.extend([sample_train_averages['user'][user]]*(5-len(top_sim_movies_ratings)))\n",
        "                row = list()\n",
        "                row.append(user)\n",
        "                row.append(movie)\n",
        "                row.append(sample_train_averages['global'])\n",
        "                row.extend(top_sim_users_ratings)\n",
        "\n",
        "                row.extend(top_sim_movies_ratings)\n",
        "\n",
        "                row.append(sample_train_averages['user'][user])\n",
        "\n",
        "                row.append(sample_train_averages['movie'][movie])\n",
        "\n",
        "                row.append(rating)\n",
        "                count = count + 1\n",
        "\n",
        "                reg_data_file.write(','.join(map(str, row)))\n",
        "                reg_data_file.write('\\n')"
      ],
      "metadata": {
        "id": "mUJZgX5meXC6"
      },
      "execution_count": null,
      "outputs": []
    },
    {
      "cell_type": "code",
      "source": [
        "featurize_data(sparse_matrix)"
      ],
      "metadata": {
        "id": "xGEeCGYrej2E"
      },
      "execution_count": null,
      "outputs": []
    },
    {
      "cell_type": "markdown",
      "metadata": {
        "id": "mbDvSf9VS4Jf"
      },
      "source": [
        "#Graphical representation"
      ]
    },
    {
      "cell_type": "code",
      "execution_count": null,
      "metadata": {
        "id": "BXMp5sXPxX1X"
      },
      "outputs": [],
      "source": [
        "movies = pd.read_csv(f'{_path}movie_titles.csv')"
      ]
    },
    {
      "cell_type": "code",
      "execution_count": null,
      "metadata": {
        "id": "EEl8-U9AyIKl"
      },
      "outputs": [],
      "source": [
        "_files = [f'{_path}combined_data_1.csv', f'{_path}combined_data_2.csv', f'{_path}combined_data_3.csv', f'{_path}combined_data_4.csv']"
      ]
    },
    {
      "cell_type": "code",
      "execution_count": null,
      "metadata": {
        "id": "i8_om2IqxvbG"
      },
      "outputs": [],
      "source": [
        "_data = pd.read_csv(f'{_path}data.csv')"
      ]
    },
    {
      "cell_type": "code",
      "source": [
        "_data.head()"
      ],
      "metadata": {
        "colab": {
          "base_uri": "https://localhost:8080/",
          "height": 206
        },
        "id": "evTrHMarekAL",
        "outputId": "39a702af-0749-436b-988e-8d493b8bd3b2"
      },
      "execution_count": null,
      "outputs": [
        {
          "output_type": "execute_result",
          "data": {
            "text/plain": [
              "   MovieID  CustID  Rating        Date\n",
              "0    10341  510180       4  1999-11-11\n",
              "1     1798  510180       5  1999-11-11\n",
              "2    10774  510180       3  1999-11-11\n",
              "3     8651  510180       2  1999-11-11\n",
              "4    14660  510180       2  1999-11-11"
            ],
            "text/html": [
              "\n",
              "  <div id=\"df-12506e0f-98b1-455a-b229-dbb5e7c166e7\" class=\"colab-df-container\">\n",
              "    <div>\n",
              "<style scoped>\n",
              "    .dataframe tbody tr th:only-of-type {\n",
              "        vertical-align: middle;\n",
              "    }\n",
              "\n",
              "    .dataframe tbody tr th {\n",
              "        vertical-align: top;\n",
              "    }\n",
              "\n",
              "    .dataframe thead th {\n",
              "        text-align: right;\n",
              "    }\n",
              "</style>\n",
              "<table border=\"1\" class=\"dataframe\">\n",
              "  <thead>\n",
              "    <tr style=\"text-align: right;\">\n",
              "      <th></th>\n",
              "      <th>MovieID</th>\n",
              "      <th>CustID</th>\n",
              "      <th>Rating</th>\n",
              "      <th>Date</th>\n",
              "    </tr>\n",
              "  </thead>\n",
              "  <tbody>\n",
              "    <tr>\n",
              "      <th>0</th>\n",
              "      <td>10341</td>\n",
              "      <td>510180</td>\n",
              "      <td>4</td>\n",
              "      <td>1999-11-11</td>\n",
              "    </tr>\n",
              "    <tr>\n",
              "      <th>1</th>\n",
              "      <td>1798</td>\n",
              "      <td>510180</td>\n",
              "      <td>5</td>\n",
              "      <td>1999-11-11</td>\n",
              "    </tr>\n",
              "    <tr>\n",
              "      <th>2</th>\n",
              "      <td>10774</td>\n",
              "      <td>510180</td>\n",
              "      <td>3</td>\n",
              "      <td>1999-11-11</td>\n",
              "    </tr>\n",
              "    <tr>\n",
              "      <th>3</th>\n",
              "      <td>8651</td>\n",
              "      <td>510180</td>\n",
              "      <td>2</td>\n",
              "      <td>1999-11-11</td>\n",
              "    </tr>\n",
              "    <tr>\n",
              "      <th>4</th>\n",
              "      <td>14660</td>\n",
              "      <td>510180</td>\n",
              "      <td>2</td>\n",
              "      <td>1999-11-11</td>\n",
              "    </tr>\n",
              "  </tbody>\n",
              "</table>\n",
              "</div>\n",
              "    <div class=\"colab-df-buttons\">\n",
              "\n",
              "  <div class=\"colab-df-container\">\n",
              "    <button class=\"colab-df-convert\" onclick=\"convertToInteractive('df-12506e0f-98b1-455a-b229-dbb5e7c166e7')\"\n",
              "            title=\"Convert this dataframe to an interactive table.\"\n",
              "            style=\"display:none;\">\n",
              "\n",
              "  <svg xmlns=\"http://www.w3.org/2000/svg\" height=\"24px\" viewBox=\"0 -960 960 960\">\n",
              "    <path d=\"M120-120v-720h720v720H120Zm60-500h600v-160H180v160Zm220 220h160v-160H400v160Zm0 220h160v-160H400v160ZM180-400h160v-160H180v160Zm440 0h160v-160H620v160ZM180-180h160v-160H180v160Zm440 0h160v-160H620v160Z\"/>\n",
              "  </svg>\n",
              "    </button>\n",
              "\n",
              "  <style>\n",
              "    .colab-df-container {\n",
              "      display:flex;\n",
              "      gap: 12px;\n",
              "    }\n",
              "\n",
              "    .colab-df-convert {\n",
              "      background-color: #E8F0FE;\n",
              "      border: none;\n",
              "      border-radius: 50%;\n",
              "      cursor: pointer;\n",
              "      display: none;\n",
              "      fill: #1967D2;\n",
              "      height: 32px;\n",
              "      padding: 0 0 0 0;\n",
              "      width: 32px;\n",
              "    }\n",
              "\n",
              "    .colab-df-convert:hover {\n",
              "      background-color: #E2EBFA;\n",
              "      box-shadow: 0px 1px 2px rgba(60, 64, 67, 0.3), 0px 1px 3px 1px rgba(60, 64, 67, 0.15);\n",
              "      fill: #174EA6;\n",
              "    }\n",
              "\n",
              "    .colab-df-buttons div {\n",
              "      margin-bottom: 4px;\n",
              "    }\n",
              "\n",
              "    [theme=dark] .colab-df-convert {\n",
              "      background-color: #3B4455;\n",
              "      fill: #D2E3FC;\n",
              "    }\n",
              "\n",
              "    [theme=dark] .colab-df-convert:hover {\n",
              "      background-color: #434B5C;\n",
              "      box-shadow: 0px 1px 3px 1px rgba(0, 0, 0, 0.15);\n",
              "      filter: drop-shadow(0px 1px 2px rgba(0, 0, 0, 0.3));\n",
              "      fill: #FFFFFF;\n",
              "    }\n",
              "  </style>\n",
              "\n",
              "    <script>\n",
              "      const buttonEl =\n",
              "        document.querySelector('#df-12506e0f-98b1-455a-b229-dbb5e7c166e7 button.colab-df-convert');\n",
              "      buttonEl.style.display =\n",
              "        google.colab.kernel.accessAllowed ? 'block' : 'none';\n",
              "\n",
              "      async function convertToInteractive(key) {\n",
              "        const element = document.querySelector('#df-12506e0f-98b1-455a-b229-dbb5e7c166e7');\n",
              "        const dataTable =\n",
              "          await google.colab.kernel.invokeFunction('convertToInteractive',\n",
              "                                                    [key], {});\n",
              "        if (!dataTable) return;\n",
              "\n",
              "        const docLinkHtml = 'Like what you see? Visit the ' +\n",
              "          '<a target=\"_blank\" href=https://colab.research.google.com/notebooks/data_table.ipynb>data table notebook</a>'\n",
              "          + ' to learn more about interactive tables.';\n",
              "        element.innerHTML = '';\n",
              "        dataTable['output_type'] = 'display_data';\n",
              "        await google.colab.output.renderOutput(dataTable, element);\n",
              "        const docLink = document.createElement('div');\n",
              "        docLink.innerHTML = docLinkHtml;\n",
              "        element.appendChild(docLink);\n",
              "      }\n",
              "    </script>\n",
              "  </div>\n",
              "\n",
              "\n",
              "<div id=\"df-e160afa5-b6fc-4b26-b06d-11f6ea46c3f2\">\n",
              "  <button class=\"colab-df-quickchart\" onclick=\"quickchart('df-e160afa5-b6fc-4b26-b06d-11f6ea46c3f2')\"\n",
              "            title=\"Suggest charts\"\n",
              "            style=\"display:none;\">\n",
              "\n",
              "<svg xmlns=\"http://www.w3.org/2000/svg\" height=\"24px\"viewBox=\"0 0 24 24\"\n",
              "     width=\"24px\">\n",
              "    <g>\n",
              "        <path d=\"M19 3H5c-1.1 0-2 .9-2 2v14c0 1.1.9 2 2 2h14c1.1 0 2-.9 2-2V5c0-1.1-.9-2-2-2zM9 17H7v-7h2v7zm4 0h-2V7h2v10zm4 0h-2v-4h2v4z\"/>\n",
              "    </g>\n",
              "</svg>\n",
              "  </button>\n",
              "\n",
              "<style>\n",
              "  .colab-df-quickchart {\n",
              "      --bg-color: #E8F0FE;\n",
              "      --fill-color: #1967D2;\n",
              "      --hover-bg-color: #E2EBFA;\n",
              "      --hover-fill-color: #174EA6;\n",
              "      --disabled-fill-color: #AAA;\n",
              "      --disabled-bg-color: #DDD;\n",
              "  }\n",
              "\n",
              "  [theme=dark] .colab-df-quickchart {\n",
              "      --bg-color: #3B4455;\n",
              "      --fill-color: #D2E3FC;\n",
              "      --hover-bg-color: #434B5C;\n",
              "      --hover-fill-color: #FFFFFF;\n",
              "      --disabled-bg-color: #3B4455;\n",
              "      --disabled-fill-color: #666;\n",
              "  }\n",
              "\n",
              "  .colab-df-quickchart {\n",
              "    background-color: var(--bg-color);\n",
              "    border: none;\n",
              "    border-radius: 50%;\n",
              "    cursor: pointer;\n",
              "    display: none;\n",
              "    fill: var(--fill-color);\n",
              "    height: 32px;\n",
              "    padding: 0;\n",
              "    width: 32px;\n",
              "  }\n",
              "\n",
              "  .colab-df-quickchart:hover {\n",
              "    background-color: var(--hover-bg-color);\n",
              "    box-shadow: 0 1px 2px rgba(60, 64, 67, 0.3), 0 1px 3px 1px rgba(60, 64, 67, 0.15);\n",
              "    fill: var(--button-hover-fill-color);\n",
              "  }\n",
              "\n",
              "  .colab-df-quickchart-complete:disabled,\n",
              "  .colab-df-quickchart-complete:disabled:hover {\n",
              "    background-color: var(--disabled-bg-color);\n",
              "    fill: var(--disabled-fill-color);\n",
              "    box-shadow: none;\n",
              "  }\n",
              "\n",
              "  .colab-df-spinner {\n",
              "    border: 2px solid var(--fill-color);\n",
              "    border-color: transparent;\n",
              "    border-bottom-color: var(--fill-color);\n",
              "    animation:\n",
              "      spin 1s steps(1) infinite;\n",
              "  }\n",
              "\n",
              "  @keyframes spin {\n",
              "    0% {\n",
              "      border-color: transparent;\n",
              "      border-bottom-color: var(--fill-color);\n",
              "      border-left-color: var(--fill-color);\n",
              "    }\n",
              "    20% {\n",
              "      border-color: transparent;\n",
              "      border-left-color: var(--fill-color);\n",
              "      border-top-color: var(--fill-color);\n",
              "    }\n",
              "    30% {\n",
              "      border-color: transparent;\n",
              "      border-left-color: var(--fill-color);\n",
              "      border-top-color: var(--fill-color);\n",
              "      border-right-color: var(--fill-color);\n",
              "    }\n",
              "    40% {\n",
              "      border-color: transparent;\n",
              "      border-right-color: var(--fill-color);\n",
              "      border-top-color: var(--fill-color);\n",
              "    }\n",
              "    60% {\n",
              "      border-color: transparent;\n",
              "      border-right-color: var(--fill-color);\n",
              "    }\n",
              "    80% {\n",
              "      border-color: transparent;\n",
              "      border-right-color: var(--fill-color);\n",
              "      border-bottom-color: var(--fill-color);\n",
              "    }\n",
              "    90% {\n",
              "      border-color: transparent;\n",
              "      border-bottom-color: var(--fill-color);\n",
              "    }\n",
              "  }\n",
              "</style>\n",
              "\n",
              "  <script>\n",
              "    async function quickchart(key) {\n",
              "      const quickchartButtonEl =\n",
              "        document.querySelector('#' + key + ' button');\n",
              "      quickchartButtonEl.disabled = true;  // To prevent multiple clicks.\n",
              "      quickchartButtonEl.classList.add('colab-df-spinner');\n",
              "      try {\n",
              "        const charts = await google.colab.kernel.invokeFunction(\n",
              "            'suggestCharts', [key], {});\n",
              "      } catch (error) {\n",
              "        console.error('Error during call to suggestCharts:', error);\n",
              "      }\n",
              "      quickchartButtonEl.classList.remove('colab-df-spinner');\n",
              "      quickchartButtonEl.classList.add('colab-df-quickchart-complete');\n",
              "    }\n",
              "    (() => {\n",
              "      let quickchartButtonEl =\n",
              "        document.querySelector('#df-e160afa5-b6fc-4b26-b06d-11f6ea46c3f2 button');\n",
              "      quickchartButtonEl.style.display =\n",
              "        google.colab.kernel.accessAllowed ? 'block' : 'none';\n",
              "    })();\n",
              "  </script>\n",
              "</div>\n",
              "\n",
              "    </div>\n",
              "  </div>\n"
            ]
          },
          "metadata": {},
          "execution_count": 8
        }
      ]
    },
    {
      "cell_type": "markdown",
      "source": [
        "**Distribution of Ratings over Training Dataset**"
      ],
      "metadata": {
        "id": "enjbR-xLgFh0"
      }
    },
    {
      "cell_type": "code",
      "source": [
        "train_data = pd.read_csv('/content/drive/MyDrive/movie-recommendation-dataset/train.csv')"
      ],
      "metadata": {
        "id": "1ox9moMDmITy"
      },
      "execution_count": null,
      "outputs": []
    },
    {
      "cell_type": "markdown",
      "source": [
        "**Analysis of Rating per Movie**"
      ],
      "metadata": {
        "id": "a7OR_tMKgTWP"
      }
    },
    {
      "cell_type": "code",
      "source": [
        "no_of_ratings_per_movie = train_data.groupby(by='MovieID')['Rating'].count().sort_values(ascending=False)\n",
        "\n",
        "fig = plt.figure(figsize=plt.figaspect(.5))\n",
        "ax = plt.gca()\n",
        "plt.plot(no_of_ratings_per_movie.values)\n",
        "plt.title('# RATINGS per Movie')\n",
        "plt.xlabel('Movie')\n",
        "plt.ylabel('Count of Ratings')\n",
        "ax.set_xticklabels([])\n",
        "\n",
        "plt.show()\n"
      ],
      "metadata": {
        "colab": {
          "base_uri": "https://localhost:8080/",
          "height": 397
        },
        "id": "RqlH7PISf8uB",
        "outputId": "d0b3b796-6486-4e8d-86a5-ef4eab7d9698"
      },
      "execution_count": null,
      "outputs": [
        {
          "output_type": "display_data",
          "data": {
            "text/plain": [
              "<Figure size 960x480 with 1 Axes>"
            ],
            "image/png": "[encoded data removed]"
          },
          "metadata": {}
        }
      ]
    },
    {
      "cell_type": "markdown",
      "source": [
        "Human Function"
      ],
      "metadata": {
        "id": "R136e1kLoHiu"
      }
    },
    {
      "cell_type": "code",
      "source": [
        "def human(num, units = 'M'):\n",
        "    units = units.lower()\n",
        "    num = float(num)\n",
        "    if units == 'k':\n",
        "        return str(num/10**3) + \" K\"\n",
        "    elif units == 'm':\n",
        "        return str(num/10**6) + \" M\"\n",
        "    elif units == 'b':\n",
        "        return str(num/10**9) +  \" B\""
      ],
      "metadata": {
        "id": "sJDo4LaSn-2G"
      },
      "execution_count": null,
      "outputs": []
    },
    {
      "cell_type": "code",
      "source": [
        "\n",
        "sns.set_style('whitegrid')\n",
        "\n",
        "fig, ax = plt.subplots(figsize=(10, 6))\n",
        "sns.countplot(data=train_data, x='Rating', ax=ax)\n",
        "\n",
        "tick_positions = ax.get_yticks()\n",
        "ax.set_yticklabels([human(item, 'M') for item in tick_positions])\n",
        "ax.yaxis.set_major_locator(plt.FixedLocator(tick_positions))\n",
        "ax.set_yticks(tick_positions)\n",
        "plt.title('Distribution of Ratings over Training Dataset', fontsize=15)\n",
        "plt.xlabel('Ratings')\n",
        "plt.ylabel('Count')\n",
        "plt.show()"
      ],
      "metadata": {
        "colab": {
          "base_uri": "https://localhost:8080/",
          "height": 533
        },
        "id": "6tyysGgsnhi3",
        "outputId": "63b1df9f-f051-432f-d872-c380363840c3"
      },
      "execution_count": null,
      "outputs": [
        {
          "output_type": "stream",
          "name": "stderr",
          "text": [
            "<ipython-input-21-0fa50e7bfafa>:7: UserWarning: FixedFormatter should only be used together with FixedLocator\n",
            "  ax.set_yticklabels([human(item, 'M') for item in tick_positions])\n"
          ]
        },
        {
          "output_type": "display_data",
          "data": {
            "text/plain": [
              "<Figure size 1000x600 with 1 Axes>"
            ],
            "image/png": "[encoded data removed]"
          },
          "metadata": {}
        }
      ]
    },
    {
      "cell_type": "markdown",
      "source": [
        "#Featurization"
      ],
      "metadata": {
        "id": "bJuq_vq7p4pW"
      }
    },
    {
      "cell_type": "code",
      "source": [
        "final_data = pd.read_csv('/content/drive/MyDrive/movie-recommendation-dataset/featurized_dataset.csv', names =['user',\t'movie',\t'GAvg',\t'sur1',\t'sur2',\t'sur3',\t'sur4',\t'sur5',\t'smr1',\t'smr2',\t'smr3',\t'smr4',\t'smr5',\t'UAvg',\t'MAvg',\t'rating'])\n",
        "\n",
        "# GAvg : Average rating of all the ratings\n",
        "\n",
        "# Similar users rating of this movie:\n",
        "\n",
        "# sur1, sur2, sur3, sur4, sur5 ( top 5 similar users who rated that movie.. )\n",
        "# Similar movies rated by this user:\n",
        "\n",
        "# smr1, smr2, smr3, smr4, smr5 ( top 5 similar movies rated by this user.. )\n",
        "# UAvg : User's Average rating\n",
        "\n",
        "# MAvg : Average rating of this movie\n",
        "\n",
        "# rating : Rating of this movie by this user."
      ],
      "metadata": {
        "id": "UzFvpQ3Bp4La"
      },
      "execution_count": null,
      "outputs": []
    },
    {
      "cell_type": "code",
      "source": [
        "final_data.head()"
      ],
      "metadata": {
        "colab": {
          "base_uri": "https://localhost:8080/",
          "height": 226
        },
        "id": "Mh9IcLcoqwn0",
        "outputId": "86ad894b-09bc-4636-f757-c1ff5b539e30"
      },
      "execution_count": null,
      "outputs": [
        {
          "output_type": "execute_result",
          "data": {
            "text/plain": [
              "   user  movie      GAvg  sur1  sur2  sur3  sur4  sur5  smr1  smr2  smr3  \\\n",
              "0     6    241  3.689887     3     4     4     4     4   4.0   3.0   2.0   \n",
              "1     6    468  3.689887     5     3     5     5     5   4.0   5.0   5.0   \n",
              "2     6    501  3.689887     4     4     3     4     3   4.0   3.0   3.0   \n",
              "3     6    528  3.689887     2     3     3     4     4   3.0   3.0   3.0   \n",
              "4     6    658  3.689887     4     3     5     4     4   3.0   3.0   3.0   \n",
              "\n",
              "   smr4  smr5      UAvg      MAvg  rating  \n",
              "0   4.0   3.0  3.194737  4.142783       3  \n",
              "1   2.0   5.0  3.194737  3.743761       3  \n",
              "2   4.0   3.0  3.194737  3.808137       3  \n",
              "3   4.0   3.0  3.194737  2.954018       4  \n",
              "4   2.0   4.0  3.194737  3.691386       3  "
            ],
            "text/html": [
              "\n",
              "  <div id=\"df-d070c794-b4af-4466-b4db-54fa1ec9f4fb\" class=\"colab-df-container\">\n",
              "    <div>\n",
              "<style scoped>\n",
              "    .dataframe tbody tr th:only-of-type {\n",
              "        vertical-align: middle;\n",
              "    }\n",
              "\n",
              "    .dataframe tbody tr th {\n",
              "        vertical-align: top;\n",
              "    }\n",
              "\n",
              "    .dataframe thead th {\n",
              "        text-align: right;\n",
              "    }\n",
              "</style>\n",
              "<table border=\"1\" class=\"dataframe\">\n",
              "  <thead>\n",
              "    <tr style=\"text-align: right;\">\n",
              "      <th></th>\n",
              "      <th>user</th>\n",
              "      <th>movie</th>\n",
              "      <th>GAvg</th>\n",
              "      <th>sur1</th>\n",
              "      <th>sur2</th>\n",
              "      <th>sur3</th>\n",
              "      <th>sur4</th>\n",
              "      <th>sur5</th>\n",
              "      <th>smr1</th>\n",
              "      <th>smr2</th>\n",
              "      <th>smr3</th>\n",
              "      <th>smr4</th>\n",
              "      <th>smr5</th>\n",
              "      <th>UAvg</th>\n",
              "      <th>MAvg</th>\n",
              "      <th>rating</th>\n",
              "    </tr>\n",
              "  </thead>\n",
              "  <tbody>\n",
              "    <tr>\n",
              "      <th>0</th>\n",
              "      <td>6</td>\n",
              "      <td>241</td>\n",
              "      <td>3.689887</td>\n",
              "      <td>3</td>\n",
              "      <td>4</td>\n",
              "      <td>4</td>\n",
              "      <td>4</td>\n",
              "      <td>4</td>\n",
              "      <td>4.0</td>\n",
              "      <td>3.0</td>\n",
              "      <td>2.0</td>\n",
              "      <td>4.0</td>\n",
              "      <td>3.0</td>\n",
              "      <td>3.194737</td>\n",
              "      <td>4.142783</td>\n",
              "      <td>3</td>\n",
              "    </tr>\n",
              "    <tr>\n",
              "      <th>1</th>\n",
              "      <td>6</td>\n",
              "      <td>468</td>\n",
              "      <td>3.689887</td>\n",
              "      <td>5</td>\n",
              "      <td>3</td>\n",
              "      <td>5</td>\n",
              "      <td>5</td>\n",
              "      <td>5</td>\n",
              "      <td>4.0</td>\n",
              "      <td>5.0</td>\n",
              "      <td>5.0</td>\n",
              "      <td>2.0</td>\n",
              "      <td>5.0</td>\n",
              "      <td>3.194737</td>\n",
              "      <td>3.743761</td>\n",
              "      <td>3</td>\n",
              "    </tr>\n",
              "    <tr>\n",
              "      <th>2</th>\n",
              "      <td>6</td>\n",
              "      <td>501</td>\n",
              "      <td>3.689887</td>\n",
              "      <td>4</td>\n",
              "      <td>4</td>\n",
              "      <td>3</td>\n",
              "      <td>4</td>\n",
              "      <td>3</td>\n",
              "      <td>4.0</td>\n",
              "      <td>3.0</td>\n",
              "      <td>3.0</td>\n",
              "      <td>4.0</td>\n",
              "      <td>3.0</td>\n",
              "      <td>3.194737</td>\n",
              "      <td>3.808137</td>\n",
              "      <td>3</td>\n",
              "    </tr>\n",
              "    <tr>\n",
              "      <th>3</th>\n",
              "      <td>6</td>\n",
              "      <td>528</td>\n",
              "      <td>3.689887</td>\n",
              "      <td>2</td>\n",
              "      <td>3</td>\n",
              "      <td>3</td>\n",
              "      <td>4</td>\n",
              "      <td>4</td>\n",
              "      <td>3.0</td>\n",
              "      <td>3.0</td>\n",
              "      <td>3.0</td>\n",
              "      <td>4.0</td>\n",
              "      <td>3.0</td>\n",
              "      <td>3.194737</td>\n",
              "      <td>2.954018</td>\n",
              "      <td>4</td>\n",
              "    </tr>\n",
              "    <tr>\n",
              "      <th>4</th>\n",
              "      <td>6</td>\n",
              "      <td>658</td>\n",
              "      <td>3.689887</td>\n",
              "      <td>4</td>\n",
              "      <td>3</td>\n",
              "      <td>5</td>\n",
              "      <td>4</td>\n",
              "      <td>4</td>\n",
              "      <td>3.0</td>\n",
              "      <td>3.0</td>\n",
              "      <td>3.0</td>\n",
              "      <td>2.0</td>\n",
              "      <td>4.0</td>\n",
              "      <td>3.194737</td>\n",
              "      <td>3.691386</td>\n",
              "      <td>3</td>\n",
              "    </tr>\n",
              "  </tbody>\n",
              "</table>\n",
              "</div>\n",
              "    <div class=\"colab-df-buttons\">\n",
              "\n",
              "  <div class=\"colab-df-container\">\n",
              "    <button class=\"colab-df-convert\" onclick=\"convertToInteractive('df-d070c794-b4af-4466-b4db-54fa1ec9f4fb')\"\n",
              "            title=\"Convert this dataframe to an interactive table.\"\n",
              "            style=\"display:none;\">\n",
              "\n",
              "  <svg xmlns=\"http://www.w3.org/2000/svg\" height=\"24px\" viewBox=\"0 -960 960 960\">\n",
              "    <path d=\"M120-120v-720h720v720H120Zm60-500h600v-160H180v160Zm220 220h160v-160H400v160Zm0 220h160v-160H400v160ZM180-400h160v-160H180v160Zm440 0h160v-160H620v160ZM180-180h160v-160H180v160Zm440 0h160v-160H620v160Z\"/>\n",
              "  </svg>\n",
              "    </button>\n",
              "\n",
              "  <style>\n",
              "    .colab-df-container {\n",
              "      display:flex;\n",
              "      gap: 12px;\n",
              "    }\n",
              "\n",
              "    .colab-df-convert {\n",
              "      background-color: #E8F0FE;\n",
              "      border: none;\n",
              "      border-radius: 50%;\n",
              "      cursor: pointer;\n",
              "      display: none;\n",
              "      fill: #1967D2;\n",
              "      height: 32px;\n",
              "      padding: 0 0 0 0;\n",
              "      width: 32px;\n",
              "    }\n",
              "\n",
              "    .colab-df-convert:hover {\n",
              "      background-color: #E2EBFA;\n",
              "      box-shadow: 0px 1px 2px rgba(60, 64, 67, 0.3), 0px 1px 3px 1px rgba(60, 64, 67, 0.15);\n",
              "      fill: #174EA6;\n",
              "    }\n",
              "\n",
              "    .colab-df-buttons div {\n",
              "      margin-bottom: 4px;\n",
              "    }\n",
              "\n",
              "    [theme=dark] .colab-df-convert {\n",
              "      background-color: #3B4455;\n",
              "      fill: #D2E3FC;\n",
              "    }\n",
              "\n",
              "    [theme=dark] .colab-df-convert:hover {\n",
              "      background-color: #434B5C;\n",
              "      box-shadow: 0px 1px 3px 1px rgba(0, 0, 0, 0.15);\n",
              "      filter: drop-shadow(0px 1px 2px rgba(0, 0, 0, 0.3));\n",
              "      fill: #FFFFFF;\n",
              "    }\n",
              "  </style>\n",
              "\n",
              "    <script>\n",
              "      const buttonEl =\n",
              "        document.querySelector('#df-d070c794-b4af-4466-b4db-54fa1ec9f4fb button.colab-df-convert');\n",
              "      buttonEl.style.display =\n",
              "        google.colab.kernel.accessAllowed ? 'block' : 'none';\n",
              "\n",
              "      async function convertToInteractive(key) {\n",
              "        const element = document.querySelector('#df-d070c794-b4af-4466-b4db-54fa1ec9f4fb');\n",
              "        const dataTable =\n",
              "          await google.colab.kernel.invokeFunction('convertToInteractive',\n",
              "                                                    [key], {});\n",
              "        if (!dataTable) return;\n",
              "\n",
              "        const docLinkHtml = 'Like what you see? Visit the ' +\n",
              "          '<a target=\"_blank\" href=https://colab.research.google.com/notebooks/data_table.ipynb>data table notebook</a>'\n",
              "          + ' to learn more about interactive tables.';\n",
              "        element.innerHTML = '';\n",
              "        dataTable['output_type'] = 'display_data';\n",
              "        await google.colab.output.renderOutput(dataTable, element);\n",
              "        const docLink = document.createElement('div');\n",
              "        docLink.innerHTML = docLinkHtml;\n",
              "        element.appendChild(docLink);\n",
              "      }\n",
              "    </script>\n",
              "  </div>\n",
              "\n",
              "\n",
              "<div id=\"df-7659f75b-b508-4ba5-85d7-0ece5953c93d\">\n",
              "  <button class=\"colab-df-quickchart\" onclick=\"quickchart('df-7659f75b-b508-4ba5-85d7-0ece5953c93d')\"\n",
              "            title=\"Suggest charts\"\n",
              "            style=\"display:none;\">\n",
              "\n",
              "<svg xmlns=\"http://www.w3.org/2000/svg\" height=\"24px\"viewBox=\"0 0 24 24\"\n",
              "     width=\"24px\">\n",
              "    <g>\n",
              "        <path d=\"M19 3H5c-1.1 0-2 .9-2 2v14c0 1.1.9 2 2 2h14c1.1 0 2-.9 2-2V5c0-1.1-.9-2-2-2zM9 17H7v-7h2v7zm4 0h-2V7h2v10zm4 0h-2v-4h2v4z\"/>\n",
              "    </g>\n",
              "</svg>\n",
              "  </button>\n",
              "\n",
              "<style>\n",
              "  .colab-df-quickchart {\n",
              "      --bg-color: #E8F0FE;\n",
              "      --fill-color: #1967D2;\n",
              "      --hover-bg-color: #E2EBFA;\n",
              "      --hover-fill-color: #174EA6;\n",
              "      --disabled-fill-color: #AAA;\n",
              "      --disabled-bg-color: #DDD;\n",
              "  }\n",
              "\n",
              "  [theme=dark] .colab-df-quickchart {\n",
              "      --bg-color: #3B4455;\n",
              "      --fill-color: #D2E3FC;\n",
              "      --hover-bg-color: #434B5C;\n",
              "      --hover-fill-color: #FFFFFF;\n",
              "      --disabled-bg-color: #3B4455;\n",
              "      --disabled-fill-color: #666;\n",
              "  }\n",
              "\n",
              "  .colab-df-quickchart {\n",
              "    background-color: var(--bg-color);\n",
              "    border: none;\n",
              "    border-radius: 50%;\n",
              "    cursor: pointer;\n",
              "    display: none;\n",
              "    fill: var(--fill-color);\n",
              "    height: 32px;\n",
              "    padding: 0;\n",
              "    width: 32px;\n",
              "  }\n",
              "\n",
              "  .colab-df-quickchart:hover {\n",
              "    background-color: var(--hover-bg-color);\n",
              "    box-shadow: 0 1px 2px rgba(60, 64, 67, 0.3), 0 1px 3px 1px rgba(60, 64, 67, 0.15);\n",
              "    fill: var(--button-hover-fill-color);\n",
              "  }\n",
              "\n",
              "  .colab-df-quickchart-complete:disabled,\n",
              "  .colab-df-quickchart-complete:disabled:hover {\n",
              "    background-color: var(--disabled-bg-color);\n",
              "    fill: var(--disabled-fill-color);\n",
              "    box-shadow: none;\n",
              "  }\n",
              "\n",
              "  .colab-df-spinner {\n",
              "    border: 2px solid var(--fill-color);\n",
              "    border-color: transparent;\n",
              "    border-bottom-color: var(--fill-color);\n",
              "    animation:\n",
              "      spin 1s steps(1) infinite;\n",
              "  }\n",
              "\n",
              "  @keyframes spin {\n",
              "    0% {\n",
              "      border-color: transparent;\n",
              "      border-bottom-color: var(--fill-color);\n",
              "      border-left-color: var(--fill-color);\n",
              "    }\n",
              "    20% {\n",
              "      border-color: transparent;\n",
              "      border-left-color: var(--fill-color);\n",
              "      border-top-color: var(--fill-color);\n",
              "    }\n",
              "    30% {\n",
              "      border-color: transparent;\n",
              "      border-left-color: var(--fill-color);\n",
              "      border-top-color: var(--fill-color);\n",
              "      border-right-color: var(--fill-color);\n",
              "    }\n",
              "    40% {\n",
              "      border-color: transparent;\n",
              "      border-right-color: var(--fill-color);\n",
              "      border-top-color: var(--fill-color);\n",
              "    }\n",
              "    60% {\n",
              "      border-color: transparent;\n",
              "      border-right-color: var(--fill-color);\n",
              "    }\n",
              "    80% {\n",
              "      border-color: transparent;\n",
              "      border-right-color: var(--fill-color);\n",
              "      border-bottom-color: var(--fill-color);\n",
              "    }\n",
              "    90% {\n",
              "      border-color: transparent;\n",
              "      border-bottom-color: var(--fill-color);\n",
              "    }\n",
              "  }\n",
              "</style>\n",
              "\n",
              "  <script>\n",
              "    async function quickchart(key) {\n",
              "      const quickchartButtonEl =\n",
              "        document.querySelector('#' + key + ' button');\n",
              "      quickchartButtonEl.disabled = true;  // To prevent multiple clicks.\n",
              "      quickchartButtonEl.classList.add('colab-df-spinner');\n",
              "      try {\n",
              "        const charts = await google.colab.kernel.invokeFunction(\n",
              "            'suggestCharts', [key], {});\n",
              "      } catch (error) {\n",
              "        console.error('Error during call to suggestCharts:', error);\n",
              "      }\n",
              "      quickchartButtonEl.classList.remove('colab-df-spinner');\n",
              "      quickchartButtonEl.classList.add('colab-df-quickchart-complete');\n",
              "    }\n",
              "    (() => {\n",
              "      let quickchartButtonEl =\n",
              "        document.querySelector('#df-7659f75b-b508-4ba5-85d7-0ece5953c93d button');\n",
              "      quickchartButtonEl.style.display =\n",
              "        google.colab.kernel.accessAllowed ? 'block' : 'none';\n",
              "    })();\n",
              "  </script>\n",
              "</div>\n",
              "\n",
              "    </div>\n",
              "  </div>\n"
            ]
          },
          "metadata": {},
          "execution_count": 25
        }
      ]
    },
    {
      "cell_type": "code",
      "source": [
        "from sklearn.model_selection import train_test_split\n",
        "from xgboost import XGBRegressor\n",
        "import xgboost as xgb\n",
        "from sklearn.metrics import mean_squared_error\n"
      ],
      "metadata": {
        "id": "1DdLlM6Argw3"
      },
      "execution_count": null,
      "outputs": []
    },
    {
      "cell_type": "markdown",
      "source": [
        "#Splitting into train and test set"
      ],
      "metadata": {
        "id": "tMTsRuo6uLwj"
      }
    },
    {
      "cell_type": "code",
      "source": [
        "from sklearn.model_selection import train_test_split\n",
        "\n",
        "# Assuming 'rating' is the target variable\n",
        "X = final_data.drop('rating', axis=1)  # Features (everything except 'rating')\n",
        "y = final_data['rating']  # Target variable\n",
        "\n",
        "# Split the data into a training set (80%) and a test set (20%)\n",
        "X_train, X_test, y_train, y_test = train_test_split(X, y, test_size=0.2, random_state=42)\n",
        "\n",
        "# Display the shapes of the resulting sets\n",
        "print(\"Training set shape:\", X_train.shape, y_train.shape)\n",
        "print(\"Test set shape:\", X_test.shape, y_test.shape)\n"
      ],
      "metadata": {
        "colab": {
          "base_uri": "https://localhost:8080/"
        },
        "id": "TTMQqLnNt2TS",
        "outputId": "a1134a9d-7050-4e21-d8e7-b9011963721d"
      },
      "execution_count": null,
      "outputs": [
        {
          "output_type": "stream",
          "name": "stdout",
          "text": [
            "Training set shape: (5458, 15) (5458,)\n",
            "Test set shape: (1365, 15) (1365,)\n"
          ]
        }
      ]
    },
    {
      "cell_type": "markdown",
      "source": [
        "#Modelling Data"
      ],
      "metadata": {
        "id": "SduapG4RwwVC"
      }
    },
    {
      "cell_type": "markdown",
      "source": [
        "**XGBoost**"
      ],
      "metadata": {
        "id": "-5UvI6crzArj"
      }
    },
    {
      "cell_type": "code",
      "source": [
        "X = final_data.drop('rating', axis=1)  # Features (everything except 'rating')\n",
        "y = final_data['rating']  # Target variable\n",
        "\n",
        "X_train, X_test, y_train, y_test = train_test_split(X, y, test_size=0.2, random_state=42)\n",
        "\n",
        "# Instantiate the XGBoost regressor\n",
        "model = xgb.XGBRegressor(objective ='reg:squarederror', random_state=42)\n",
        "\n",
        "model.fit(X_train, y_train)\n",
        "\n",
        "# Make predictions on the test set\n",
        "y_pred = model.predict(X_test)\n",
        "\n",
        "# Evaluating the model\n",
        "mse = mean_squared_error(y_test, y_pred)\n",
        "print(\"Mean Squared Error:\", mse)\n"
      ],
      "metadata": {
        "colab": {
          "base_uri": "https://localhost:8080/"
        },
        "id": "ye8wdCdnuk93",
        "outputId": "387d7850-e862-4606-be13-302f2b91032f"
      },
      "execution_count": null,
      "outputs": [
        {
          "output_type": "stream",
          "name": "stdout",
          "text": [
            "Mean Squared Error: 0.8683893193667906\n"
          ]
        }
      ]
    },
    {
      "cell_type": "code",
      "source": [
        "# Assuming 'user', 'movie', and 'rating' are the columns in your dataset\n",
        "reader = Reader(rating_scale=(1, 5))\n",
        "data = Dataset.load_from_df(final_data[['user', 'movie', 'rating']], reader)\n"
      ],
      "metadata": {
        "id": "2n6KJkvVxGEB"
      },
      "execution_count": null,
      "outputs": []
    },
    {
      "cell_type": "markdown",
      "source": [
        "**Spliting into training and test sets**"
      ],
      "metadata": {
        "id": "aYlXZBa_2hiy"
      }
    },
    {
      "cell_type": "code",
      "source": [
        "trainset, testset = train_test_split(data, test_size=0.2, random_state=42)\n"
      ],
      "metadata": {
        "id": "EX4QkJxKyjJt"
      },
      "execution_count": null,
      "outputs": []
    },
    {
      "cell_type": "markdown",
      "source": [
        "**Surprise Baselineonly**"
      ],
      "metadata": {
        "id": "UxbbaHZ9y3Wh"
      }
    },
    {
      "cell_type": "code",
      "source": [
        "# Instantiate the BaselineOnly algorithm\n",
        "algo = BaselineOnly()\n",
        "\n",
        "# Train the algorithm on the training set\n",
        "algo.fit(trainset)\n",
        "\n",
        "# Make predictions on the test set\n",
        "predictions = algo.test(testset)\n",
        "\n",
        "# Evaluate the model using accuracy metrics\n",
        "accuracy.rmse(predictions)\n"
      ],
      "metadata": {
        "colab": {
          "base_uri": "https://localhost:8080/"
        },
        "id": "V-LRuT6uyj7l",
        "outputId": "8caff2ad-effd-4b0f-bf54-ce23b1832152"
      },
      "execution_count": null,
      "outputs": [
        {
          "output_type": "stream",
          "name": "stdout",
          "text": [
            "Estimating biases using als...\n",
            "RMSE: 0.9519\n"
          ]
        },
        {
          "output_type": "execute_result",
          "data": {
            "text/plain": [
              "0.951891324052058"
            ]
          },
          "metadata": {},
          "execution_count": 42
        }
      ]
    },
    {
      "cell_type": "markdown",
      "source": [
        "**KNNBaseline**"
      ],
      "metadata": {
        "id": "0ejF-gXDzaJO"
      }
    },
    {
      "cell_type": "code",
      "source": [
        "# Instantiate the KNNBaseline algorithm\n",
        "algo = KNNBaseline(sim_options={'name': 'pearson_baseline', 'user_based': False})\n",
        "\n",
        "# Train the algorithm on the training set\n",
        "algo.fit(trainset)\n",
        "\n",
        "# Make predictions on the test set\n",
        "predictions = algo.test(testset)\n",
        "\n",
        "# Evaluate the model using accuracy metrics\n",
        "accuracy.rmse(predictions)\n"
      ],
      "metadata": {
        "colab": {
          "base_uri": "https://localhost:8080/"
        },
        "id": "-ignK0LpzQ93",
        "outputId": "7c0748a7-99a2-420f-f76d-8eff36644411"
      },
      "execution_count": null,
      "outputs": [
        {
          "output_type": "stream",
          "name": "stdout",
          "text": [
            "Estimating biases using als...\n",
            "Computing the pearson_baseline similarity matrix...\n",
            "Done computing similarity matrix.\n",
            "RMSE: 1.0011\n"
          ]
        },
        {
          "output_type": "execute_result",
          "data": {
            "text/plain": [
              "1.0010926333713321"
            ]
          },
          "metadata": {},
          "execution_count": 44
        }
      ]
    },
    {
      "cell_type": "markdown",
      "source": [
        "**SVD**"
      ],
      "metadata": {
        "id": "FQ1u-Iw02Ypi"
      }
    },
    {
      "cell_type": "code",
      "source": [
        "# Instantiate the SVD algorithm\n",
        "algo = SVD()\n",
        "\n",
        "# Train the algorithm on the training set\n",
        "algo.fit(trainset)\n",
        "\n",
        "# Make predictions on the test set\n",
        "predictions = algo.test(testset)\n",
        "\n",
        "# Evaluate the model using accuracy metrics\n",
        "accuracy.rmse(predictions)"
      ],
      "metadata": {
        "colab": {
          "base_uri": "https://localhost:8080/"
        },
        "id": "jl3JNomI1RRn",
        "outputId": "79e539dc-49c0-436a-e4ca-a14366fd09e3"
      },
      "execution_count": null,
      "outputs": [
        {
          "output_type": "stream",
          "name": "stdout",
          "text": [
            "RMSE: 0.9626\n"
          ]
        },
        {
          "output_type": "execute_result",
          "data": {
            "text/plain": [
              "0.9626209058901297"
            ]
          },
          "metadata": {},
          "execution_count": 46
        }
      ]
    },
    {
      "cell_type": "markdown",
      "source": [
        "**SVDpp**"
      ],
      "metadata": {
        "id": "SWd1hSpo2Sr9"
      }
    },
    {
      "cell_type": "code",
      "source": [
        "# Instantiate the SVD++ algorithm\n",
        "algo = SVDpp()\n",
        "\n",
        "# Train the algorithm on the training set\n",
        "algo.fit(trainset)\n",
        "\n",
        "# Make predictions on the test set\n",
        "predictions = algo.test(testset)\n",
        "\n",
        "# Evaluate the model using accuracy metrics\n",
        "accuracy.rmse(predictions)"
      ],
      "metadata": {
        "colab": {
          "base_uri": "https://localhost:8080/"
        },
        "id": "Jo9EdnTH1-r3",
        "outputId": "fc53d2ef-da0f-40c2-f186-3f80254edbf3"
      },
      "execution_count": null,
      "outputs": [
        {
          "output_type": "stream",
          "name": "stdout",
          "text": [
            "RMSE: 0.9618\n"
          ]
        },
        {
          "output_type": "execute_result",
          "data": {
            "text/plain": [
              "0.9618406755668829"
            ]
          },
          "metadata": {},
          "execution_count": 48
        }
      ]
    }
  ],
  "metadata": {
    "colab": {
      "provenance": []
    },
    "kernelspec": {
      "display_name": "Python 3",
      "name": "python3"
    },
    "language_info": {
      "name": "python"
    }
  },
  "nbformat": 4,
  "nbformat_minor": 0
}